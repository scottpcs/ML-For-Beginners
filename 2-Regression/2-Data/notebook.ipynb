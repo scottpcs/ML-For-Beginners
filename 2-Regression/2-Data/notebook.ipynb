{
 "cells": [
  {
   "cell_type": "markdown",
   "metadata": {},
   "source": [
    "## What is Pandas anyway?\n",
    "* Pandas is Powerful data toolkit: Pandas is a way to use the Python programming language to do amazing things with data. It lets you load information from all kinds of files, clean it up, and then analyze it to answer questions.\n",
    "* Tables on steroids: Think of Pandas as giving you special tables called DataFrames. You can put lots of different kinds of information in there – numbers, text, dates – and then easily slice and dice it however you need.\n",
    "* Example: Imagine you want to track how much rainfall your town had over a year. Pandas can help you load all that rain data, calculate the monthly totals, find the wettest month, and even create a graph to show how the rain changed over time!"
   ]
  },
  {
   "cell_type": "code",
   "execution_count": 1,
   "metadata": {},
   "outputs": [
    {
     "data": {
      "text/html": [
       "<div>\n",
       "<style scoped>\n",
       "    .dataframe tbody tr th:only-of-type {\n",
       "        vertical-align: middle;\n",
       "    }\n",
       "\n",
       "    .dataframe tbody tr th {\n",
       "        vertical-align: top;\n",
       "    }\n",
       "\n",
       "    .dataframe thead th {\n",
       "        text-align: right;\n",
       "    }\n",
       "</style>\n",
       "<table border=\"1\" class=\"dataframe\">\n",
       "  <thead>\n",
       "    <tr style=\"text-align: right;\">\n",
       "      <th></th>\n",
       "      <th>City Name</th>\n",
       "      <th>Type</th>\n",
       "      <th>Package</th>\n",
       "      <th>Variety</th>\n",
       "      <th>Sub Variety</th>\n",
       "      <th>Grade</th>\n",
       "      <th>Date</th>\n",
       "      <th>Low Price</th>\n",
       "      <th>High Price</th>\n",
       "      <th>Mostly Low</th>\n",
       "      <th>...</th>\n",
       "      <th>Unit of Sale</th>\n",
       "      <th>Quality</th>\n",
       "      <th>Condition</th>\n",
       "      <th>Appearance</th>\n",
       "      <th>Storage</th>\n",
       "      <th>Crop</th>\n",
       "      <th>Repack</th>\n",
       "      <th>Trans Mode</th>\n",
       "      <th>Unnamed: 24</th>\n",
       "      <th>Unnamed: 25</th>\n",
       "    </tr>\n",
       "  </thead>\n",
       "  <tbody>\n",
       "    <tr>\n",
       "      <th>0</th>\n",
       "      <td>BALTIMORE</td>\n",
       "      <td>NaN</td>\n",
       "      <td>24 inch bins</td>\n",
       "      <td>NaN</td>\n",
       "      <td>NaN</td>\n",
       "      <td>NaN</td>\n",
       "      <td>4/29/17</td>\n",
       "      <td>270.0</td>\n",
       "      <td>280.0</td>\n",
       "      <td>270.0</td>\n",
       "      <td>...</td>\n",
       "      <td>NaN</td>\n",
       "      <td>NaN</td>\n",
       "      <td>NaN</td>\n",
       "      <td>NaN</td>\n",
       "      <td>NaN</td>\n",
       "      <td>NaN</td>\n",
       "      <td>E</td>\n",
       "      <td>NaN</td>\n",
       "      <td>NaN</td>\n",
       "      <td>NaN</td>\n",
       "    </tr>\n",
       "    <tr>\n",
       "      <th>1</th>\n",
       "      <td>BALTIMORE</td>\n",
       "      <td>NaN</td>\n",
       "      <td>24 inch bins</td>\n",
       "      <td>NaN</td>\n",
       "      <td>NaN</td>\n",
       "      <td>NaN</td>\n",
       "      <td>5/6/17</td>\n",
       "      <td>270.0</td>\n",
       "      <td>280.0</td>\n",
       "      <td>270.0</td>\n",
       "      <td>...</td>\n",
       "      <td>NaN</td>\n",
       "      <td>NaN</td>\n",
       "      <td>NaN</td>\n",
       "      <td>NaN</td>\n",
       "      <td>NaN</td>\n",
       "      <td>NaN</td>\n",
       "      <td>E</td>\n",
       "      <td>NaN</td>\n",
       "      <td>NaN</td>\n",
       "      <td>NaN</td>\n",
       "    </tr>\n",
       "    <tr>\n",
       "      <th>2</th>\n",
       "      <td>BALTIMORE</td>\n",
       "      <td>NaN</td>\n",
       "      <td>24 inch bins</td>\n",
       "      <td>HOWDEN TYPE</td>\n",
       "      <td>NaN</td>\n",
       "      <td>NaN</td>\n",
       "      <td>9/24/16</td>\n",
       "      <td>160.0</td>\n",
       "      <td>160.0</td>\n",
       "      <td>160.0</td>\n",
       "      <td>...</td>\n",
       "      <td>NaN</td>\n",
       "      <td>NaN</td>\n",
       "      <td>NaN</td>\n",
       "      <td>NaN</td>\n",
       "      <td>NaN</td>\n",
       "      <td>NaN</td>\n",
       "      <td>N</td>\n",
       "      <td>NaN</td>\n",
       "      <td>NaN</td>\n",
       "      <td>NaN</td>\n",
       "    </tr>\n",
       "    <tr>\n",
       "      <th>3</th>\n",
       "      <td>BALTIMORE</td>\n",
       "      <td>NaN</td>\n",
       "      <td>24 inch bins</td>\n",
       "      <td>HOWDEN TYPE</td>\n",
       "      <td>NaN</td>\n",
       "      <td>NaN</td>\n",
       "      <td>9/24/16</td>\n",
       "      <td>160.0</td>\n",
       "      <td>160.0</td>\n",
       "      <td>160.0</td>\n",
       "      <td>...</td>\n",
       "      <td>NaN</td>\n",
       "      <td>NaN</td>\n",
       "      <td>NaN</td>\n",
       "      <td>NaN</td>\n",
       "      <td>NaN</td>\n",
       "      <td>NaN</td>\n",
       "      <td>N</td>\n",
       "      <td>NaN</td>\n",
       "      <td>NaN</td>\n",
       "      <td>NaN</td>\n",
       "    </tr>\n",
       "    <tr>\n",
       "      <th>4</th>\n",
       "      <td>BALTIMORE</td>\n",
       "      <td>NaN</td>\n",
       "      <td>24 inch bins</td>\n",
       "      <td>HOWDEN TYPE</td>\n",
       "      <td>NaN</td>\n",
       "      <td>NaN</td>\n",
       "      <td>11/5/16</td>\n",
       "      <td>90.0</td>\n",
       "      <td>100.0</td>\n",
       "      <td>90.0</td>\n",
       "      <td>...</td>\n",
       "      <td>NaN</td>\n",
       "      <td>NaN</td>\n",
       "      <td>NaN</td>\n",
       "      <td>NaN</td>\n",
       "      <td>NaN</td>\n",
       "      <td>NaN</td>\n",
       "      <td>N</td>\n",
       "      <td>NaN</td>\n",
       "      <td>NaN</td>\n",
       "      <td>NaN</td>\n",
       "    </tr>\n",
       "  </tbody>\n",
       "</table>\n",
       "<p>5 rows × 26 columns</p>\n",
       "</div>"
      ],
      "text/plain": [
       "   City Name Type       Package      Variety Sub Variety  Grade     Date  \\\n",
       "0  BALTIMORE  NaN  24 inch bins          NaN         NaN    NaN  4/29/17   \n",
       "1  BALTIMORE  NaN  24 inch bins          NaN         NaN    NaN   5/6/17   \n",
       "2  BALTIMORE  NaN  24 inch bins  HOWDEN TYPE         NaN    NaN  9/24/16   \n",
       "3  BALTIMORE  NaN  24 inch bins  HOWDEN TYPE         NaN    NaN  9/24/16   \n",
       "4  BALTIMORE  NaN  24 inch bins  HOWDEN TYPE         NaN    NaN  11/5/16   \n",
       "\n",
       "   Low Price  High Price  Mostly Low  ...  Unit of Sale Quality Condition  \\\n",
       "0      270.0       280.0       270.0  ...           NaN     NaN       NaN   \n",
       "1      270.0       280.0       270.0  ...           NaN     NaN       NaN   \n",
       "2      160.0       160.0       160.0  ...           NaN     NaN       NaN   \n",
       "3      160.0       160.0       160.0  ...           NaN     NaN       NaN   \n",
       "4       90.0       100.0        90.0  ...           NaN     NaN       NaN   \n",
       "\n",
       "  Appearance Storage  Crop Repack  Trans Mode  Unnamed: 24  Unnamed: 25  \n",
       "0        NaN     NaN   NaN      E         NaN          NaN          NaN  \n",
       "1        NaN     NaN   NaN      E         NaN          NaN          NaN  \n",
       "2        NaN     NaN   NaN      N         NaN          NaN          NaN  \n",
       "3        NaN     NaN   NaN      N         NaN          NaN          NaN  \n",
       "4        NaN     NaN   NaN      N         NaN          NaN          NaN  \n",
       "\n",
       "[5 rows x 26 columns]"
      ]
     },
     "execution_count": 1,
     "metadata": {},
     "output_type": "execute_result"
    }
   ],
   "source": [
    "import pandas as pd\n",
    "pumpkins = pd.read_csv('../data/US-pumpkins.csv')\n",
    "pumpkins.head()"
   ]
  },
  {
   "cell_type": "markdown",
   "metadata": {},
   "source": [
    "## Pandas to explore the data\n",
    "* We can quickly get a feel for the data with a few Pandas functions"
   ]
  },
  {
   "cell_type": "code",
   "execution_count": 2,
   "metadata": {},
   "outputs": [
    {
     "data": {
      "text/plain": [
       "(1757, 26)"
      ]
     },
     "execution_count": 2,
     "metadata": {},
     "output_type": "execute_result"
    }
   ],
   "source": [
    "pumpkins.shape  # returns the rows and columns of the data"
   ]
  },
  {
   "cell_type": "code",
   "execution_count": 3,
   "metadata": {},
   "outputs": [
    {
     "name": "stdout",
     "output_type": "stream",
     "text": [
      "<class 'pandas.core.frame.DataFrame'>\n",
      "RangeIndex: 1757 entries, 0 to 1756\n",
      "Data columns (total 26 columns):\n",
      " #   Column           Non-Null Count  Dtype  \n",
      "---  ------           --------------  -----  \n",
      " 0   City Name        1757 non-null   object \n",
      " 1   Type             45 non-null     object \n",
      " 2   Package          1757 non-null   object \n",
      " 3   Variety          1752 non-null   object \n",
      " 4   Sub Variety      296 non-null    object \n",
      " 5   Grade            0 non-null      float64\n",
      " 6   Date             1757 non-null   object \n",
      " 7   Low Price        1757 non-null   float64\n",
      " 8   High Price       1757 non-null   float64\n",
      " 9   Mostly Low       1654 non-null   float64\n",
      " 10  Mostly High      1654 non-null   float64\n",
      " 11  Origin           1754 non-null   object \n",
      " 12  Origin District  131 non-null    object \n",
      " 13  Item Size        1478 non-null   object \n",
      " 14  Color            1141 non-null   object \n",
      " 15  Environment      0 non-null      float64\n",
      " 16  Unit of Sale     162 non-null    object \n",
      " 17  Quality          0 non-null      float64\n",
      " 18  Condition        0 non-null      float64\n",
      " 19  Appearance       0 non-null      float64\n",
      " 20  Storage          0 non-null      float64\n",
      " 21  Crop             0 non-null      float64\n",
      " 22  Repack           1757 non-null   object \n",
      " 23  Trans Mode       0 non-null      float64\n",
      " 24  Unnamed: 24      0 non-null      float64\n",
      " 25  Unnamed: 25      103 non-null    object \n",
      "dtypes: float64(13), object(13)\n",
      "memory usage: 357.0+ KB\n"
     ]
    }
   ],
   "source": [
    "pumpkins.info() # reports back on the data types as well as how complete the data is "
   ]
  },
  {
   "cell_type": "code",
   "execution_count": 4,
   "metadata": {},
   "outputs": [
    {
     "data": {
      "text/html": [
       "<div>\n",
       "<style scoped>\n",
       "    .dataframe tbody tr th:only-of-type {\n",
       "        vertical-align: middle;\n",
       "    }\n",
       "\n",
       "    .dataframe tbody tr th {\n",
       "        vertical-align: top;\n",
       "    }\n",
       "\n",
       "    .dataframe thead th {\n",
       "        text-align: right;\n",
       "    }\n",
       "</style>\n",
       "<table border=\"1\" class=\"dataframe\">\n",
       "  <thead>\n",
       "    <tr style=\"text-align: right;\">\n",
       "      <th></th>\n",
       "      <th>Grade</th>\n",
       "      <th>Low Price</th>\n",
       "      <th>High Price</th>\n",
       "      <th>Mostly Low</th>\n",
       "      <th>Mostly High</th>\n",
       "      <th>Environment</th>\n",
       "      <th>Quality</th>\n",
       "      <th>Condition</th>\n",
       "      <th>Appearance</th>\n",
       "      <th>Storage</th>\n",
       "      <th>Crop</th>\n",
       "      <th>Trans Mode</th>\n",
       "      <th>Unnamed: 24</th>\n",
       "    </tr>\n",
       "  </thead>\n",
       "  <tbody>\n",
       "    <tr>\n",
       "      <th>count</th>\n",
       "      <td>0.0</td>\n",
       "      <td>1757.000000</td>\n",
       "      <td>1757.000000</td>\n",
       "      <td>1654.000000</td>\n",
       "      <td>1654.000000</td>\n",
       "      <td>0.0</td>\n",
       "      <td>0.0</td>\n",
       "      <td>0.0</td>\n",
       "      <td>0.0</td>\n",
       "      <td>0.0</td>\n",
       "      <td>0.0</td>\n",
       "      <td>0.0</td>\n",
       "      <td>0.0</td>\n",
       "    </tr>\n",
       "    <tr>\n",
       "      <th>mean</th>\n",
       "      <td>NaN</td>\n",
       "      <td>124.571338</td>\n",
       "      <td>132.970939</td>\n",
       "      <td>128.170550</td>\n",
       "      <td>132.491802</td>\n",
       "      <td>NaN</td>\n",
       "      <td>NaN</td>\n",
       "      <td>NaN</td>\n",
       "      <td>NaN</td>\n",
       "      <td>NaN</td>\n",
       "      <td>NaN</td>\n",
       "      <td>NaN</td>\n",
       "      <td>NaN</td>\n",
       "    </tr>\n",
       "    <tr>\n",
       "      <th>std</th>\n",
       "      <td>NaN</td>\n",
       "      <td>83.876591</td>\n",
       "      <td>89.524958</td>\n",
       "      <td>86.512161</td>\n",
       "      <td>88.442967</td>\n",
       "      <td>NaN</td>\n",
       "      <td>NaN</td>\n",
       "      <td>NaN</td>\n",
       "      <td>NaN</td>\n",
       "      <td>NaN</td>\n",
       "      <td>NaN</td>\n",
       "      <td>NaN</td>\n",
       "      <td>NaN</td>\n",
       "    </tr>\n",
       "    <tr>\n",
       "      <th>min</th>\n",
       "      <td>NaN</td>\n",
       "      <td>0.240000</td>\n",
       "      <td>0.240000</td>\n",
       "      <td>0.240000</td>\n",
       "      <td>0.240000</td>\n",
       "      <td>NaN</td>\n",
       "      <td>NaN</td>\n",
       "      <td>NaN</td>\n",
       "      <td>NaN</td>\n",
       "      <td>NaN</td>\n",
       "      <td>NaN</td>\n",
       "      <td>NaN</td>\n",
       "      <td>NaN</td>\n",
       "    </tr>\n",
       "    <tr>\n",
       "      <th>25%</th>\n",
       "      <td>NaN</td>\n",
       "      <td>24.000000</td>\n",
       "      <td>24.500000</td>\n",
       "      <td>24.625000</td>\n",
       "      <td>26.125000</td>\n",
       "      <td>NaN</td>\n",
       "      <td>NaN</td>\n",
       "      <td>NaN</td>\n",
       "      <td>NaN</td>\n",
       "      <td>NaN</td>\n",
       "      <td>NaN</td>\n",
       "      <td>NaN</td>\n",
       "      <td>NaN</td>\n",
       "    </tr>\n",
       "    <tr>\n",
       "      <th>50%</th>\n",
       "      <td>NaN</td>\n",
       "      <td>140.000000</td>\n",
       "      <td>150.000000</td>\n",
       "      <td>147.000000</td>\n",
       "      <td>150.000000</td>\n",
       "      <td>NaN</td>\n",
       "      <td>NaN</td>\n",
       "      <td>NaN</td>\n",
       "      <td>NaN</td>\n",
       "      <td>NaN</td>\n",
       "      <td>NaN</td>\n",
       "      <td>NaN</td>\n",
       "      <td>NaN</td>\n",
       "    </tr>\n",
       "    <tr>\n",
       "      <th>75%</th>\n",
       "      <td>NaN</td>\n",
       "      <td>180.000000</td>\n",
       "      <td>200.000000</td>\n",
       "      <td>185.000000</td>\n",
       "      <td>200.000000</td>\n",
       "      <td>NaN</td>\n",
       "      <td>NaN</td>\n",
       "      <td>NaN</td>\n",
       "      <td>NaN</td>\n",
       "      <td>NaN</td>\n",
       "      <td>NaN</td>\n",
       "      <td>NaN</td>\n",
       "      <td>NaN</td>\n",
       "    </tr>\n",
       "    <tr>\n",
       "      <th>max</th>\n",
       "      <td>NaN</td>\n",
       "      <td>480.000000</td>\n",
       "      <td>480.000000</td>\n",
       "      <td>480.000000</td>\n",
       "      <td>480.000000</td>\n",
       "      <td>NaN</td>\n",
       "      <td>NaN</td>\n",
       "      <td>NaN</td>\n",
       "      <td>NaN</td>\n",
       "      <td>NaN</td>\n",
       "      <td>NaN</td>\n",
       "      <td>NaN</td>\n",
       "      <td>NaN</td>\n",
       "    </tr>\n",
       "  </tbody>\n",
       "</table>\n",
       "</div>"
      ],
      "text/plain": [
       "       Grade    Low Price   High Price   Mostly Low  Mostly High  Environment  \\\n",
       "count    0.0  1757.000000  1757.000000  1654.000000  1654.000000          0.0   \n",
       "mean     NaN   124.571338   132.970939   128.170550   132.491802          NaN   \n",
       "std      NaN    83.876591    89.524958    86.512161    88.442967          NaN   \n",
       "min      NaN     0.240000     0.240000     0.240000     0.240000          NaN   \n",
       "25%      NaN    24.000000    24.500000    24.625000    26.125000          NaN   \n",
       "50%      NaN   140.000000   150.000000   147.000000   150.000000          NaN   \n",
       "75%      NaN   180.000000   200.000000   185.000000   200.000000          NaN   \n",
       "max      NaN   480.000000   480.000000   480.000000   480.000000          NaN   \n",
       "\n",
       "       Quality  Condition  Appearance  Storage  Crop  Trans Mode  Unnamed: 24  \n",
       "count      0.0        0.0         0.0      0.0   0.0         0.0          0.0  \n",
       "mean       NaN        NaN         NaN      NaN   NaN         NaN          NaN  \n",
       "std        NaN        NaN         NaN      NaN   NaN         NaN          NaN  \n",
       "min        NaN        NaN         NaN      NaN   NaN         NaN          NaN  \n",
       "25%        NaN        NaN         NaN      NaN   NaN         NaN          NaN  \n",
       "50%        NaN        NaN         NaN      NaN   NaN         NaN          NaN  \n",
       "75%        NaN        NaN         NaN      NaN   NaN         NaN          NaN  \n",
       "max        NaN        NaN         NaN      NaN   NaN         NaN          NaN  "
      ]
     },
     "execution_count": 4,
     "metadata": {},
     "output_type": "execute_result"
    }
   ],
   "source": [
    "pumpkins.describe() # Gives some quick stats on the data. "
   ]
  },
  {
   "cell_type": "code",
   "execution_count": 5,
   "metadata": {},
   "outputs": [
    {
     "name": "stdout",
     "output_type": "stream",
     "text": [
      "City Name             BALTIMORE\n",
      "Type                        NaN\n",
      "Package            24 inch bins\n",
      "Variety             HOWDEN TYPE\n",
      "Sub Variety                 NaN\n",
      "Grade                       NaN\n",
      "Date                    11/5/16\n",
      "Low Price                  90.0\n",
      "High Price                100.0\n",
      "Mostly Low                 90.0\n",
      "Mostly High               100.0\n",
      "Origin                 MARYLAND\n",
      "Origin District             NaN\n",
      "Item Size                   lge\n",
      "Color                    ORANGE\n",
      "Environment                 NaN\n",
      "Unit of Sale                NaN\n",
      "Quality                     NaN\n",
      "Condition                   NaN\n",
      "Appearance                  NaN\n",
      "Storage                     NaN\n",
      "Crop                        NaN\n",
      "Repack                        N\n",
      "Trans Mode                  NaN\n",
      "Unnamed: 24                 NaN\n",
      "Unnamed: 25                 NaN\n",
      "Name: 4, dtype: object\n",
      "HOWDEN TYPE\n"
     ]
    }
   ],
   "source": [
    "fifth_row = pumpkins.iloc[4,:]  # Gets the fifth row \n",
    "print(fifth_row)\n",
    "our_pumpkin_variety = pumpkins.iloc[4,3]  # Gets the fifth row, fourth column\n",
    "print(our_pumpkin_variety)"
   ]
  },
  {
   "cell_type": "code",
   "execution_count": 6,
   "metadata": {},
   "outputs": [
    {
     "name": "stdout",
     "output_type": "stream",
     "text": [
      "0               NaN\n",
      "1               NaN\n",
      "2       HOWDEN TYPE\n",
      "3       HOWDEN TYPE\n",
      "4       HOWDEN TYPE\n",
      "           ...     \n",
      "1752      MINIATURE\n",
      "1753      MINIATURE\n",
      "1754      MINIATURE\n",
      "1755      MINIATURE\n",
      "1756      MINIATURE\n",
      "Name: Variety, Length: 1757, dtype: object\n",
      "KNUCKLE HEAD\n",
      "KNUCKLE HEAD\n"
     ]
    }
   ],
   "source": [
    "variety_column = pumpkins['Variety']\n",
    "print(variety_column)\n",
    "print(pumpkins.loc[501,'Variety'])  # pull out an individual element using heading names\n",
    "print(pumpkins.iloc[501,3])         # same element using the index location reference"
   ]
  },
  {
   "cell_type": "code",
   "execution_count": 7,
   "metadata": {},
   "outputs": [
    {
     "data": {
      "text/plain": [
       "City Name             0\n",
       "Type               1712\n",
       "Package               0\n",
       "Variety               5\n",
       "Sub Variety        1461\n",
       "Grade              1757\n",
       "Date                  0\n",
       "Low Price             0\n",
       "High Price            0\n",
       "Mostly Low          103\n",
       "Mostly High         103\n",
       "Origin                3\n",
       "Origin District    1626\n",
       "Item Size           279\n",
       "Color               616\n",
       "Environment        1757\n",
       "Unit of Sale       1595\n",
       "Quality            1757\n",
       "Condition          1757\n",
       "Appearance         1757\n",
       "Storage            1757\n",
       "Crop               1757\n",
       "Repack                0\n",
       "Trans Mode         1757\n",
       "Unnamed: 24        1757\n",
       "Unnamed: 25        1654\n",
       "dtype: int64"
      ]
     },
     "execution_count": 7,
     "metadata": {},
     "output_type": "execute_result"
    }
   ],
   "source": [
    "pumpkins.isnull().sum()  # returns "
   ]
  },
  {
   "cell_type": "markdown",
   "metadata": {},
   "source": [
    "## Here's a breakdown of what the code pumpkins.isnull().sum() does in your Pandas DataFrame:\n",
    "\n",
    "1. pumpkins.isnull()\n",
    "\n",
    "This part checks for missing values (also known as NaN – Not a Number) in your DataFrame.\n",
    "It creates a new DataFrame of the same size as your original pumpkins DataFrame.\n",
    "Each cell of this new DataFrame has a Boolean value:\n",
    "True if the corresponding cell in pumpkins has a missing value.\n",
    "False if the corresponding cell in pumpkins has a value present.\n",
    "\n",
    "2. .sum()\n",
    "\n",
    "This part counts the number of True values in each column of the Boolean DataFrame created by isnull().\n",
    "The result is a Series (a one-dimensional array) where:\n",
    "The index represents the column names from your pumpkins DataFrame.\n",
    "The values represent the count of missing values (NaN) in each respective column.\n",
    "Overall Purpose:\n",
    "\n",
    "The code pumpkins.isnull().sum() provides a quick summary of how many missing values exist within each column of your 'pumpkins' DataFrame. This is incredibly useful for data cleaning and understanding where you might need to fill in missing values before analysis."
   ]
  },
  {
   "cell_type": "markdown",
   "metadata": {},
   "source": [
    "## Now convert and reduce the data\n",
    "They appear to want to focus on price and date"
   ]
  },
  {
   "cell_type": "code",
   "execution_count": 8,
   "metadata": {},
   "outputs": [
    {
     "data": {
      "text/plain": [
       "(1757, 4)"
      ]
     },
     "execution_count": 8,
     "metadata": {},
     "output_type": "execute_result"
    }
   ],
   "source": [
    "columns_to_select = ['Package', 'Low Price', 'High Price', 'Date'] # an array of string labels for columns that we care about\n",
    "pumpkins = pumpkins.loc[:, columns_to_select]                       # select the columns for Package, pricing and date\n",
    "pumpkins.shape # check out the new shape of your data. Its'a  much smaller set now."
   ]
  },
  {
   "cell_type": "code",
   "execution_count": 9,
   "metadata": {},
   "outputs": [],
   "source": [
    "price = (pumpkins['Low Price'] + pumpkins['High Price']) / 2  # they define 'price' as the average of the high and low price\n",
    "\n",
    "month = pd.DatetimeIndex(pumpkins['Date']).month               # Converts the date to a special data type tehn extracts the month portion  "
   ]
  },
  {
   "cell_type": "markdown",
   "metadata": {},
   "source": [
    "## Create a new dataframe with your data\n",
    "But then we discover that packages are different sizes which makes comparing prices difficult"
   ]
  },
  {
   "cell_type": "code",
   "execution_count": 10,
   "metadata": {},
   "outputs": [
    {
     "name": "stdout",
     "output_type": "stream",
     "text": [
      "      Month        Package  Low Price  High Price   Price\n",
      "0         4   24 inch bins     270.00      280.00  275.00\n",
      "1         5   24 inch bins     270.00      280.00  275.00\n",
      "2         9   24 inch bins     160.00      160.00  160.00\n",
      "3         9   24 inch bins     160.00      160.00  160.00\n",
      "4        11   24 inch bins      90.00      100.00   95.00\n",
      "...     ...            ...        ...         ...     ...\n",
      "1752      9  22 lb cartons      14.75       14.75   14.75\n",
      "1753      9   36 inch bins     275.00      275.00  275.00\n",
      "1754      9   36 inch bins     275.00      275.00  275.00\n",
      "1755      9   36 inch bins     275.00      275.00  275.00\n",
      "1756      9   36 inch bins     275.00      275.00  275.00\n",
      "\n",
      "[1757 rows x 5 columns]\n"
     ]
    }
   ],
   "source": [
    "new_pumpkins = pd.DataFrame({'Month': month, 'Package': pumpkins['Package'], 'Low Price': pumpkins['Low Price'],'High Price': pumpkins['High Price'], 'Price': price})\n",
    "print(new_pumpkins)  "
   ]
  },
  {
   "cell_type": "code",
   "execution_count": 18,
   "metadata": {},
   "outputs": [],
   "source": [
    "new_pumpkins = new_pumpkins[new_pumpkins['Package'].str.contains('bushel', case=True, regex=True)]\n"
   ]
  },
  {
   "cell_type": "markdown",
   "metadata": {},
   "source": [
    "## what did that just do?\n",
    "### Filtering Your DataFrame\n",
    "\n",
    "The code is filtering your pumpkins DataFrame to keep only the rows where the value in the 'Package' column contains the word \"bushel\".  Let's break it down:\n",
    "\n",
    "* pumpkins[ ... ]:  This part is used for selecting rows based on a condition. The condition is specified inside the square brackets.\n",
    "\n",
    "* pumpkins['Package'].str.contains('bushel', case=True, regex=True): This creates the condition for filtering:\n",
    "\n",
    "* pumpkins['Package']: Selects the 'Package' column of your DataFrame.\n",
    ".str.contains('bushel'): Checks if each value in the 'Package' column contains the substring \"bushel\".\n",
    "case=True: Makes the search case-sensitive. Only \"bushel\" will match, not \"Bushel\" or \"BUSHEL\".\n",
    "regex=True: Enables regular expression matching. While not strictly necessary for a simple word like \"bushel\", it allows for more powerful pattern matching if needed in the future.\n",
    "The Result\n",
    "\n",
    "The original pumpkins DataFrame is overwritten with a new DataFrame containing only the rows where the 'Package' column contains \"bushel\"."
   ]
  },
  {
   "cell_type": "code",
   "execution_count": 19,
   "metadata": {},
   "outputs": [
    {
     "name": "stdout",
     "output_type": "stream",
     "text": [
      "                   Package  Low Price  High Price     Date\n",
      "70    1 1/9 bushel cartons      15.00        15.0  9/24/16\n",
      "71    1 1/9 bushel cartons      18.00        18.0  9/24/16\n",
      "72    1 1/9 bushel cartons      18.00        18.0  10/1/16\n",
      "73    1 1/9 bushel cartons      17.00        17.0  10/1/16\n",
      "74    1 1/9 bushel cartons      15.00        15.0  10/8/16\n",
      "...                    ...        ...         ...      ...\n",
      "1738    1/2 bushel cartons      15.00        15.0  9/30/16\n",
      "1739    1/2 bushel cartons      13.75        15.0  9/30/16\n",
      "1740    1/2 bushel cartons      10.75        15.0  9/30/16\n",
      "1741    1/2 bushel cartons      12.00        12.0  9/30/16\n",
      "1742    1/2 bushel cartons      12.00        12.0  9/30/16\n",
      "\n",
      "[415 rows x 4 columns]\n"
     ]
    }
   ],
   "source": [
    "new_pumpkins.shape\n",
    "print(pumpkins)"
   ]
  },
  {
   "cell_type": "markdown",
   "metadata": {},
   "source": [
    "## Now harmonize your pricing among the two types of bushels"
   ]
  },
  {
   "cell_type": "code",
   "execution_count": 20,
   "metadata": {},
   "outputs": [],
   "source": [
    "    new_pumpkins.loc[new_pumpkins['Package'].str.contains('1 1/9'), 'Price'] = price/(1 + 1/9)\n",
    "\n",
    "    new_pumpkins.loc[new_pumpkins['Package'].str.contains('1/2'), 'Price'] = price/(1/2)"
   ]
  },
  {
   "cell_type": "markdown",
   "metadata": {},
   "source": [
    "## Now let's plot our data to see what it looks like"
   ]
  },
  {
   "cell_type": "code",
   "execution_count": 21,
   "metadata": {},
   "outputs": [
    {
     "data": {
      "image/png": "[encoded data removed]",
      "text/plain": [
       "<Figure size 640x480 with 1 Axes>"
      ]
     },
     "metadata": {},
     "output_type": "display_data"
    }
   ],
   "source": [
    "import matplotlib.pyplot as plt\n",
    "price = new_pumpkins.Price\n",
    "month = new_pumpkins.Month\n",
    "plt.scatter(price, month)\n",
    "plt.show()"
   ]
  },
  {
   "cell_type": "code",
   "execution_count": 25,
   "metadata": {},
   "outputs": [
    {
     "data": {
      "text/plain": [
       "Text(0, 0.5, 'Pumpkin Price')"
      ]
     },
     "execution_count": 25,
     "metadata": {},
     "output_type": "execute_result"
    },
    {
     "data": {
      "image/png": "[encoded data removed]",
      "text/plain": [
       "<Figure size 640x480 with 1 Axes>"
      ]
     },
     "metadata": {},
     "output_type": "display_data"
    }
   ],
   "source": [
    "new_pumpkins.groupby(['Month'])['Price'].mean().plot(kind='bar')\n",
    "plt.ylabel(\"Pumpkin Price\")"
   ]
  },
  {
   "cell_type": "markdown",
   "metadata": {},
   "source": [
    "## Breaking that bar chart instruction down\n",
    "Here's a breakdown of what the code is doing, step by step:\n",
    "\n",
    "1. new_pumpkins.groupby(['Month'])['Price'].mean()\n",
    "\n",
    "new_pumpkins.groupby(['Month']): This part groups the DataFrame new_pumpkins based on the values in the 'Month' column. Each unique month value becomes a group.\n",
    "['Price']: Selects only the 'Price' column within each group created in the previous step.\n",
    ".mean(): Calculates the average price within each month group. The result will be a Series where the index is the month and the values are the average pumpkin prices for each month.\n",
    "2. .plot(kind='bar')\n",
    "\n",
    ".plot(): This method from Pandas is used to create a plot.\n",
    "kind='bar': Specifies that the plot should be a bar chart, where each month will have a bar representing its average pumpkin price.\n",
    "3. plt.ylabel(\"Pumpkin Price\")\n",
    "\n",
    "plt: This likely refers to an import of the Matplotlib plotting library (import matplotlib.pyplot as plt).\n",
    ".ylabel(): The function sets the label for the y-axis of the plot to the text \"Pumpkin Price\"."
   ]
  },
  {
   "cell_type": "markdown",
   "metadata": {},
   "source": []
  },
  {
   "cell_type": "code",
   "execution_count": 4,
   "metadata": {},
   "outputs": [
    {
     "name": "stdout",
     "output_type": "stream",
     "text": [
      "[[10.09 19.65]]\n"
     ]
    }
   ],
   "source": [
    "import numpy as np\n",
    "\n",
    "# Define the matrices\n",
    "W = np.array([\n",
    "    [1.0, 2.5, -0.3, 5.1]\n",
    "])\n",
    "\n",
    "x = np.array([\n",
    "    [2.0, -1.5],\n",
    "    [0.5, 0.0],\n",
    "    [6.1, 0.9],\n",
    "    [1.7, 4.2] \n",
    "])\n",
    "\n",
    "# Perform the matrix multiplication\n",
    "result = np.matmul(W, x)  # Or alternatively: result = W.dot(x)\n",
    "\n",
    "# Print the result\n",
    "print(result) \n"
   ]
  },
  {
   "cell_type": "markdown",
   "metadata": {},
   "source": [
    "## Here's a code example related to my lecture\n",
    "Training a model with MSE and iterative gradient descent\n"
   ]
  },
  {
   "cell_type": "code",
   "execution_count": 13,
   "metadata": {},
   "outputs": [
    {
     "name": "stdout",
     "output_type": "stream",
     "text": [
      "Iteration 1000: Cost 0.1822\n",
      "Iteration 2000: Cost 0.1162\n",
      "Iteration 3000: Cost 0.1115\n",
      "Iteration 4000: Cost 0.1111\n",
      "Iteration 5000: Cost 0.1111\n",
      "Iteration 6000: Cost 0.1111\n",
      "Iteration 7000: Cost 0.1111\n",
      "Iteration 8000: Cost 0.1111\n",
      "Iteration 9000: Cost 0.1111\n",
      "Iteration 10000: Cost 0.1111\n",
      "Final weights and bias: [ 4.11110664  1.8888902  -2.22221644]\n"
     ]
    }
   ],
   "source": [
    "import numpy as np\n",
    "\n",
    "# Features matrix X (adding a column of ones for the bias term)\n",
    "X = np.array([[1, 2, 1],\n",
    "              [2, 3, 1],\n",
    "              [3, 4, 1]])\n",
    "\n",
    "# Labels vector y\n",
    "y = np.array([6, 11, 18])\n",
    "\n",
    "# Initial weights (w1, w2, and bias initialized to zero)\n",
    "w = np.zeros(X.shape[1])\n",
    "\n",
    "# Learning rate\n",
    "alpha = 0.01\n",
    "\n",
    "# Number of iterations\n",
    "iterations = 10000\n",
    "\n",
    "# Number of samples\n",
    "m = y.size\n",
    "\n",
    "# Gradient Descent\n",
    "for i in range(iterations):\n",
    "    # Predictions\n",
    "    predictions = X.dot(w)\n",
    "    \n",
    "    # Error\n",
    "    error = predictions - y\n",
    "    \n",
    "    # Gradient computation\n",
    "    gradient = X.T.dot(error) / m\n",
    "    \n",
    "    # Update weights\n",
    "    w -= alpha * gradient\n",
    "    \n",
    "    # Optionally print the cost every 1000 iterations\n",
    "    if (i + 1) % 1000 == 0:\n",
    "        cost = np.dot(error, error) / (2 * m)\n",
    "        print(f\"Iteration {i+1}: Cost {cost:.4f}\")\n",
    "\n",
    "# Final weights and bias\n",
    "print(\"Final weights and bias:\", w)\n"
   ]
  },
  {
   "cell_type": "markdown",
   "metadata": {},
   "source": [
    "## Let's calculate the mean square error to see how close our model matches the training data"
   ]
  },
  {
   "cell_type": "code",
   "execution_count": 15,
   "metadata": {},
   "outputs": [
    {
     "name": "stdout",
     "output_type": "stream",
     "text": [
      "Mean Squared Error: 0.22222222222947238\n"
     ]
    }
   ],
   "source": [
    "import numpy as np\n",
    "\n",
    "def calculate_mse(X, y, weights):\n",
    "    \"\"\"\n",
    "    Calculate the Mean Squared Error for a linear model given weights (including bias).\n",
    "    \n",
    "    Args:\n",
    "    X (np.array): Feature matrix where each row is a data point and each column a feature.\n",
    "                  Note: Should not include a column of ones for bias, it's handled in weights.\n",
    "    y (np.array): Actual target values vector.\n",
    "    weights (np.array): Model weights vector, last element is considered as bias.\n",
    "    \n",
    "    Returns:\n",
    "    float: The calculated Mean Squared Error.\n",
    "    \"\"\"\n",
    "    # Adding a column of ones for the bias term if not already included\n",
    "    if X.shape[1] + 1 == len(weights):\n",
    "        X = np.hstack([X, np.ones((X.shape[0], 1))])  # Add a column of ones for bias\n",
    "    \n",
    "    # Calculate predictions\n",
    "    predictions = X.dot(weights)\n",
    "    \n",
    "    # Calculate errors\n",
    "    errors = predictions - y\n",
    "    \n",
    "    # Calculate MSE\n",
    "    mse = np.mean(errors**2)\n",
    "    \n",
    "    return mse\n",
    "\n",
    "# Example usage\n",
    "X = np.array([[1, 2],  # Feature matrix without bias term\n",
    "              [2, 3],\n",
    "              [3, 4]])\n",
    "y = np.array([6, 11, 18])  # Actual target values\n",
    "\n",
    "# Weights including bias, example: [w1, w2, bias]\n",
    "#weights = np.array([4.11110664, 1.8888902, -2.22221644])\n",
    "weights = w\n",
    "\n",
    "# Calculate MSE\n",
    "mse = calculate_mse(X, y, weights)\n",
    "print(\"Mean Squared Error:\", mse)\n"
   ]
  },
  {
   "cell_type": "code",
   "execution_count": 16,
   "metadata": {},
   "outputs": [
    {
     "name": "stdout",
     "output_type": "stream",
     "text": [
      "Given the new feature vector: [4 5]\n",
      "The predicted output y' is: 23.666661099792936\n"
     ]
    }
   ],
   "source": [
    "import numpy as np\n",
    "\n",
    "# Example weights obtained from the training process\n",
    "# Assume these were the outputs from the previous gradient descent\n",
    "#w = np.array([2.95, 3.92, -3.11])  # Example weights including bias\n",
    "\n",
    "# New feature vector x' (e.g., [x1', x2', 1] for bias)\n",
    "x_prime = np.array([4, 5, 1])  # Including a '1' for the bias term\n",
    "\n",
    "# Prediction using the dot product of w and x'\n",
    "y_prime = np.dot(w, x_prime)\n",
    "\n",
    "print(\"Given the new feature vector:\", x_prime[:-1])\n",
    "print(\"The predicted output y' is:\", y_prime)\n"
   ]
  },
  {
   "cell_type": "code",
   "execution_count": 19,
   "metadata": {},
   "outputs": [
    {
     "name": "stdout",
     "output_type": "stream",
     "text": [
      "Weights and bias from the pseudo-inverse solution: [ 4.11111111  1.88888889 -2.22222222]\n",
      "Mean Squared Error: 0.22222222222222263\n"
     ]
    }
   ],
   "source": [
    "import numpy as np\n",
    "\n",
    "# Features matrix X (adding a column of ones for the bias term)\n",
    "X = np.array([[1, 2, 1],\n",
    "              [2, 3, 1],\n",
    "              [3, 4, 1]])\n",
    "\n",
    "# Labels vector y\n",
    "y = np.array([6, 11, 18])\n",
    "\n",
    "# Calculate weights using the pseudo-inverse\n",
    "w_pseudo_inverse = np.linalg.pinv(X) @ y\n",
    "\n",
    "print(\"Weights and bias from the pseudo-inverse solution:\", w_pseudo_inverse)\n",
    "\n",
    "# Calculate MSE\n",
    "mse = calculate_mse(X, y, w_pseudo_inverse)\n",
    "print(\"Mean Squared Error:\", mse)\n"
   ]
  }
 ],
 "metadata": {
  "kernelspec": {
   "display_name": "Python 3",
   "language": "python",
   "name": "python3"
  },
  "language_info": {
   "codemirror_mode": {
    "name": "ipython",
    "version": 3
   },
   "file_extension": ".py",
   "mimetype": "text/x-python",
   "name": "python",
   "nbconvert_exporter": "python",
   "pygments_lexer": "ipython3",
   "version": "3.10.13"
  },
  "orig_nbformat": 2
 },
 "nbformat": 4,
 "nbformat_minor": 2
}
